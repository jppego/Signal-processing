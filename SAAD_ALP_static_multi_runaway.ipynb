{
  "cells": [
    {
      "cell_type": "markdown",
      "metadata": {
        "id": "view-in-github",
        "colab_type": "text"
      },
      "source": [
        "<a href=\"https://colab.research.google.com/github/jppego/fced_msp_g01/blob/main/SAAD_ALP_static_multi_runaway.ipynb\" target=\"_parent\"><img src=\"https://colab.research.google.com/assets/colab-badge.svg\" alt=\"Open In Colab\"/></a>"
      ]
    },
    {
      "cell_type": "markdown",
      "metadata": {
        "id": "_YUSiwlZehcJ"
      },
      "source": [
        "http://people.brunel.ac.uk/~mastjjb/jeb/orlib/airlandinfo.html\n",
        "\n",
        "\n",
        "#Aircraft landing\n",
        "\n",
        "There are currently 13 data files.\n",
        "\n",
        "These data files are the test problems used in the papers \"*Scheduling aircraft landings - the static case*\" by J.E. Beasley, M. Krishnamoorthy, Y.M. Sharaiha and D. Abramson, Transportation  Science, vol.34, 2000, pp180-197; and\n",
        "\n",
        "\"*Displacement problem and dynamically scheduling aircraft landings*\" by J.E. Beasley, M. Krishnamoorthy, Y.M. Sharaiha and\n",
        "D. Abramson, Journal of the Operational Research Society, vol.55, 2004, pp54-64.\n",
        "\n",
        "The test problems are the files:\n",
        "* airland1, airland2, ..., airland13\n",
        "\n",
        "The first eight files are those used in the Transportation Science paper referred to above.\n",
        "\n",
        "The format of these data files is:\n",
        "* number of planes (p), freeze time\n",
        "\n",
        "for each plane i (i=1,...,p):\n",
        "\n",
        "* appearance time, \n",
        "* earliest landing time,\n",
        "* target landing time,\n",
        "* latest landing time, \n",
        "* penalty cost per unit of time for landing before target,\n",
        "* penalty cost per unit of time for landing after target\n",
        "   \n",
        "for each plane j (j=1,...p): \n",
        "* separation time required after i lands before j can land\n",
        "\n",
        "The value of the optimal solution for each of these data\n",
        "files for a varying number of runways is given in the\n",
        "above papers.\n",
        "\n",
        "The largest file is airland13 of size 800Kb (approximately). \n",
        "The entire set of files is of size 1.3Mb (approximately)."
      ]
    },
    {
      "cell_type": "code",
      "execution_count": 1,
      "metadata": {
        "colab": {
          "base_uri": "https://localhost:8080/"
        },
        "id": "MTP7dg3sehcP",
        "outputId": "0b5d13b1-a607-4158-a727-f81597913b49"
      },
      "outputs": [
        {
          "output_type": "stream",
          "name": "stdout",
          "text": [
            "Requirement already satisfied: cplex in /usr/local/lib/python3.7/dist-packages (20.1.0.3)\n",
            "Requirement already satisfied: docplex in /usr/local/lib/python3.7/dist-packages (2.22.213)\n",
            "Requirement already satisfied: six in /usr/local/lib/python3.7/dist-packages (from docplex) (1.15.0)\n"
          ]
        }
      ],
      "source": [
        "!pip install cplex\n",
        "!pip install docplex"
      ]
    },
    {
      "cell_type": "code",
      "execution_count": 2,
      "metadata": {
        "id": "gLeLY06jehcR"
      },
      "outputs": [],
      "source": [
        "import sys\n",
        "try:\n",
        "    import docplex.mp\n",
        "except:\n",
        "    raise Exception('Please install docplex. See https://pypi.org/project/docplex/')      \n",
        "\n"
      ]
    },
    {
      "cell_type": "code",
      "execution_count": 3,
      "metadata": {
        "id": "JuGf7KeGehcT"
      },
      "outputs": [],
      "source": [
        "''' Scheduling Aircraft Landing (Static Case) with multiple runways\n",
        "    Landing times of aircrafts are determined satisfying certain constraints\n",
        "    Constraints- The aircraft should land within a predetermined time interval\n",
        "                 Clearance time between two landings should be satisfied if they are landing on same runway\n",
        "'''\n",
        "import os\n",
        "import urllib.request\n",
        "import numpy as np\n"
      ]
    },
    {
      "cell_type": "markdown",
      "source": [
        "## Retrieves datasets"
      ],
      "metadata": {
        "id": "Aa-7lg54yBwI"
      }
    },
    {
      "cell_type": "code",
      "source": [
        "for i in range(1,13):\n",
        "  path = 'http://people.brunel.ac.uk/~mastjjb/jeb/orlib/files/'\n",
        "  filename =  'airland' + str(i) + '.txt'\n",
        "  urllib.request.urlretrieve(path + filename, filename)\n",
        "  os.listdir()\n"
      ],
      "metadata": {
        "id": "4lKpKkdsurP8"
      },
      "execution_count": 4,
      "outputs": []
    },
    {
      "cell_type": "markdown",
      "source": [
        "Function to read the dataset"
      ],
      "metadata": {
        "id": "-piPAsHSQR3E"
      }
    },
    {
      "cell_type": "code",
      "execution_count": 5,
      "metadata": {
        "id": "NjAuCcJKehcW"
      },
      "outputs": [],
      "source": [
        "#=====================================================================\n",
        "# Function to fetch data from provided txt file\n",
        "# @parameters- file_name : Data file(must be present in same directory)\n",
        "#=====================================================================\n",
        "def fetch_data(file_name):\n",
        "    data=open(file_name,'r')\n",
        "    lines=data.readlines()\n",
        "    num_planes=int(lines[0].split()[0])\n",
        "    freeze_time=int(lines[0].split()[1])\n",
        "\n",
        "    flight_details=np.empty([num_planes,6],dtype=float)\n",
        "    sep_time=np.empty([num_planes,num_planes],dtype=int)\n",
        "    s=''\n",
        "    for line in lines[1:]:\n",
        "        s=s+line\n",
        "    s=s.split()\n",
        "    flag=0\n",
        "    count=0\n",
        "    for items in [s[x:x+6+num_planes] for x in range(0,len(s),num_planes+6)]:\n",
        "        flight_details[count]=[float(x) for x in items[:6]]\n",
        "        sep_time[count]=[int(x) for x in items[6:]]\n",
        "        count=count+1\n",
        "    print(flight_details)\n",
        "    print(sep_time)\n",
        "    data.close()\n",
        "    return num_planes,flight_details,sep_time"
      ]
    },
    {
      "cell_type": "markdown",
      "source": [
        "# MIP model\n",
        "\n",
        "Definitions:\n",
        "\n",
        "* $P =$  the number of planes\n",
        "* $E_i =$  the earliest landing time for plane $i$ ($i = 1, \\ldots, P$)\n",
        "* $L_i =$  the latest landing time for plane $i$ ($i = 1, \\ldots, P$)\n",
        "* $T_i =$   the target (preferred) landing time for plane $i$ ($i = 1, \\ldots, P$)\n",
        "* $S_{ij} =$  the required separation time ($\\geq 0 $) between plane $i$ landing and plane $j$ landing (where plane $i$ lands before plane $j$), $i, j = 1, \\ldots, P; i \\neq j$\n",
        "* $g_i =$  the penalty cost ($\\geq 0 $) per unit of time for landing before the target time $T_i =$ for plane $i$ ($i = 1, \\ldots, P$)\n",
        "* $h_i =$  the penalty cost ($\\geq 0 $) per unit of time for landing after the target time\n",
        "* $T_i =$  for plane $i$ ($i = 1, \\ldots, P$)\n",
        "* $R =$  the number of runways \n",
        "* $ \\delta_{ij} =$ 1 if plane $i$ lands before plane $j$, 0 otherwise ($i,j = 1, \\ldots, P; i \\neq j$)\n",
        "* $z_{ij} =$  1  if planes $i$ and $j$ land on the same runaway, 0  otherwise ($i,j = 1, \\ldots, P; i \\neq j$)\n",
        "* $y_{ij} =$  1  if plane $i$ ($i = 1, \\ldots, P$) lands on runaway $r$, 0  otherwise  ($r = 1, \\ldots, R$)\n",
        "\n",
        "Decision variables:\n",
        "\n",
        "* $x_i =$ the landing time for plane $i$ ($i = 1, \\ldots, P$)\n",
        "* $\\alpha_i =$ how soon plane $i$ ($i = 1, \\ldots, P$) lands before $T_i$\n",
        "* $\\beta_i =$ how soon plane $i$ ($i = 1, \\ldots, P$) lands after $T_i$\n",
        "\n",
        "Objective function:\n",
        "* $ \\mathrm{minimize}\\sum_{i=1}^P \\left( g_i \\alpha_i + h_i \\beta_i \\right) $\n",
        "\n",
        "Subject to:\n",
        "\n",
        "* $ E_i \\leq x_i \\leq L_i, i = 1, \\ldots, P $\n",
        "\n",
        "\n",
        "* $ \\mathrm{\\textbf{W}} = [(i, j) | L_i < E_j \\mathrm{~and~} L_i + S_{ij} \\leq E_j, i = 1, \\ldots, P; j = 1, \\ldots, P; i \\neq j ] $\n",
        "\n",
        "* $ \\delta_{ij} = 1 ~\\forall~ \\mathrm{\\textbf{W}} ~ \\cup \\mathrm{\\textbf{V}}$\n",
        "\n",
        "* $ \\alpha_i \\geq T_i - x_i, i = 1, \\ldots, P $\n",
        "\n",
        "* $ 0 \\leq \\alpha_i \\leq  T_i - E_i, i = 1, \\ldots, P $\n",
        "\n",
        "* $ \\beta_i \\geq x_i - T_i, i = 1, \\ldots, P $\n",
        "\n",
        "* $ 0 \\leq \\beta_i \\leq  T_i - L_i, i = 1, \\ldots, P $\n",
        "\n",
        "* $ x_i = T_i - \\alpha_i + \\beta_i, i = 1, \\ldots, P $\n",
        "\n",
        "* $ \\sum_{r=1}^{R} y_{ir} = 1, i = 1, \\ldots, P $\n",
        "\n",
        "\n",
        "* $ z_{ij}=z_{ji}, i,j = 1, \\ldots, P, j > i $\n",
        "\n",
        "\n",
        "* $ z_{ij} \\geq y_{ir} + y_{jr} -1 , i,j = 1, \\ldots, P, j > i; r, \\ldots, R $\n",
        "\n",
        "* $ x_j \\geq x_i + S_{ij} z_{ij} + s_{ij} (1 - z_{ij}) - (L_i + \\max(S_{ij}, s_{ij}) - E_j) \\delta_{ij}, \\forall (i,j)  \\in  \\mathrm{\\textbf{U}} $\n",
        "\n",
        "* $ \\delta_{ij} \\geq \\frac{x_j - x_i}{L_j - E_i}, \\forall (i,j) \\in  \\mathrm{\\textbf{U}} $\n",
        "\n",
        "* $ \\sum_{i=1}^{P} \\sum_{j=1, j \\neq i}^{P} \\delta_{ij} = P (P-1)/2 $\n",
        "\n",
        "* $ \\delta_{ij} \\geq 1 - \\frac{\\beta_i  + \\alpha_j}{T_j - T_i}, \\forall (i,j) \\in  \\mathrm{\\textbf{U}~with~}  T_i < T_j $\n",
        "\n",
        "* $ (\\alpha_i + \\beta_i) + (\\alpha_j + \\beta_j) \\geq [S_{ij} - (T_j - T_i)] \\delta_{ij} + [(T_j - T_i) + S_{ji}] \\delta_{ji} -\\max\\{[S_{ij} - (T_j - T_i)], [(T_j - T_i) + S_{ji}]\\}(1 - z_{ij}),  \\forall (i,j) \\in  \\mathrm{\\textbf{U}~with~}  T_i < T_j \\mathrm{~and~} (T_j - T_i) < S_{ij} $\n",
        "\n",
        "\n",
        "* $ \\delta_{ji} + z_{ij} \\leq 1, \\forall (i,j) \\in  \\mathrm{\\textbf{U}^*} $\n",
        "\n",
        "* $ \\delta_{ji} + (1 - z_{ij})  \\leq 1, \\forall (i,j) \\in  \\mathrm{\\textbf{U}^{**}} $\n"
      ],
      "metadata": {
        "id": "QRyZKf_lr3s8"
      }
    },
    {
      "cell_type": "markdown",
      "source": [
        "#Creates the MIP model"
      ],
      "metadata": {
        "id": "JlgAi0nhtcvq"
      }
    },
    {
      "cell_type": "code",
      "source": [
        "def indices_array_generic(m,n):\n",
        "    r0 = np.arange(m) # Or r0,r1 = np.ogrid[:m,:n], out[:,:,0] = r0\n",
        "    r1 = np.arange(n)\n",
        "    out = np.empty((m,n,2),dtype=int)\n",
        "    out[:,:,0] = r0[:,None]\n",
        "    out[:,:,1] = r1\n",
        "    return out"
      ],
      "metadata": {
        "id": "9yzN2dyZljRI"
      },
      "execution_count": 6,
      "outputs": []
    },
    {
      "cell_type": "code",
      "execution_count": 26,
      "metadata": {
        "id": "SqXrigLIehcW"
      },
      "outputs": [],
      "source": [
        "#=====================================================================\n",
        "# Function to find landing time of the aircrafts\n",
        "# @parameters- file_name Data file(must be present in same directory)\n",
        "#              Number of runways\n",
        "#=====================================================================\n",
        "def static_ALP(fname,R):\n",
        "    from docplex.mp.model import Model\n",
        "    mdl = Model(\"Aircraft Landing Problem - Static Case - Multi Runaway\")\n",
        "    \n",
        "    P, flight_data, sep_time=fetch_data(fname)\n",
        "    try:\n",
        "        #Creating a CPLEX model\n",
        "        model=Model(\"Aircraft Landing Schedule\")\n",
        "       \n",
        "        M = max(flight_data[:,3])-min(flight_data[:,1])\n",
        "\n",
        "        E = flight_data[:,1]  # earliest landing time,\n",
        "        T = flight_data[:,2]  # target landing time,\n",
        "        L = flight_data[:,3]  # latest landing time,\n",
        "        g = flight_data[:,4]  # penalty cost per unit of time for landing before target,\n",
        "        h = flight_data[:,5]  # penalty cost per unit of time for landing after target\n",
        "\n",
        "       \n",
        "        g_dict = {}                          # the penalty cost per unit of time for landing before the target time\n",
        "        h_dict = {}                          # the penalty cost per unit of time for landing after the target time\n",
        "        for i in np.arange(P):\n",
        "            g_dict[i]=flight_data[i-1,4]\n",
        "            h_dict[i]=flight_data[i-1,5]\n",
        "\n",
        "        x_dict={}                          # initializes the the penalty cost per unit of time for landing before the target time\n",
        "        for i in np.arange(P):\n",
        "            x_dict[i]=0\n",
        "\n",
        "        delta_dict ={}\n",
        "        z_dict ={}\n",
        "        S_dict = {}\n",
        "        ij = []\n",
        "        for i in np.arange(P):\n",
        "            for j in np.arange(P):\n",
        "                delta_dict[i,j] = 0\n",
        "                z_dict[i,j] = 0\n",
        "                S_dict[i,j] = sep_time[i-1,j-1]\n",
        "                ij.append((i,j))\n",
        "        ir = []\n",
        "        y_dict={}\n",
        "        for i in np.arange(P):\n",
        "            for r in np.arange(R):\n",
        "                y_dict[i,r]=0        \n",
        "                ir.append((i,r))\n",
        " \n",
        "\n",
        "        #Adding decision variables\n",
        "\n",
        "        alpha   = mdl.continuous_var_dict(np.arange(P),lb=0,ub=mdl.infinity, name=\"alpha\")\n",
        "        beta    = mdl.continuous_var_dict(np.arange(P),lb=0,ub=mdl.infinity, name=\"beta\")\n",
        "        x       = mdl.continuous_var_dict(np.arange(P),lb=0,ub=mdl.infinity, name=\"x\")\n",
        "        delta   = mdl.binary_var_dict(ij,lb=0,ub=1, name=\"delta\")\n",
        "        y       = mdl.binary_var_dict(ir,lb=0,ub=1, name=\"y\")\n",
        "        z       = mdl.binary_var_dict(ij,lb=0,ub=1, name=\"z\")\n",
        "\n",
        "\n",
        "        #Adding constraints\n",
        "        mdl.add_constraints(x[i]>=E[i-1] for i in np.arange(P))                                                                       # Landing time of plane i must be later than the earliest landing time\n",
        "        mdl.add_constraints(x[i]<=L[i-1] for i in np.arange(P))                                                                       # Landing time of plane i must be earlier than the before latest landing time\n",
        "        mdl.add_constraints(delta[i,j]+delta[j,i]==1 for i in np.arange(P) for j in np.arange(P) if j!=i)                        # Either plane i lands before plane j or plane j lands before plane i, but not both\n",
        "        mdl.add_constraints(alpha[i]>=T[i-1]-x[i] for i in np.arange(P))                                                              # How soon plane i lands before T[i] must be larger than T[i] - x[i]\n",
        "        mdl.add_constraints(beta[i]>=x[i]-T[i-1] for i in np.arange(P))                                                               # How soon plane i lands after T[i] must be larger than x[i] - T[i]\n",
        "        mdl.add_constraints(x[j]-x[i]>=S_dict[i,j]*z[j,i] - (delta[j,i])*M for i in np.arange(P) for j in np.arange(P) if j!=i)   # Separation time between plane i and plane j must be respected\n",
        "        mdl.add_constraints(z[i,j]==z[j,i] for i in np.arange(P) for j in np.arange(P) if j>i)                                   # If plane i lands in the same runaway as plane j, plane j lands in the same runaway as plane i\n",
        "        mdl.add_constraints(mdl.sum(y[i,r] for r in np.arange(R))==1 for i in np.arange(P))                                       # Plane i can only land in 1 runaway\n",
        "        mdl.add_constraints(z[i,j]>=y[i,r]+y[j,r]-1 for r in np.arange(R) for j in np.arange(P) for i in np.arange(P) if j>i) # If there is any runaway r for which y[i,r]=y[j,r]=1 then z[i,j]=1. If z[i,j]=0 then the planes i and j cannot land on the same runaway \n",
        "\n",
        "\n",
        "        total_cost = mdl.sum(beta[i] * h[i-1] + alpha[i] * g[i-1] for i in np.arange(P))\n",
        "\n",
        "        mdl.minimize(total_cost)\n",
        "        \n",
        "        mdl.print_information()\n",
        "\n",
        "        msol = mdl.solve()\n",
        "        assert msol is not None, \"model can't solve\"\n",
        "\n",
        "        \n",
        "                \n",
        "    except mdl.error as e:\n",
        "        print('Error code ' + str(e.errno) + \": \" + str(e))\n",
        "\n",
        "    except AttributeError as a:\n",
        "        print('Encountered an attribute error '+str(a))\n",
        "\n",
        "    return mdl"
      ]
    },
    {
      "cell_type": "code",
      "source": [
        "np.arange(10)"
      ],
      "metadata": {
        "colab": {
          "base_uri": "https://localhost:8080/"
        },
        "id": "vn2wULbHBXwO",
        "outputId": "0d5e46e0-bd38-4875-ea73-caf59b4aad0f"
      },
      "execution_count": 28,
      "outputs": [
        {
          "output_type": "execute_result",
          "data": {
            "text/plain": [
              "array([0, 1, 2, 3, 4, 5, 6, 7, 8, 9])"
            ]
          },
          "metadata": {},
          "execution_count": 28
        }
      ]
    },
    {
      "cell_type": "code",
      "execution_count": 29,
      "metadata": {
        "colab": {
          "base_uri": "https://localhost:8080/"
        },
        "id": "v6Ne0n8qehcZ",
        "outputId": "e3319ff2-f12c-4da6-b441-765dc01dd235"
      },
      "outputs": [
        {
          "output_type": "stream",
          "name": "stdout",
          "text": [
            "[[ 54. 129. 155. 559.  10.  10.]\n",
            " [120. 195. 258. 744.  10.  10.]\n",
            " [ 14.  89.  98. 510.  30.  30.]\n",
            " [ 21.  96. 106. 521.  30.  30.]\n",
            " [ 35. 110. 123. 555.  30.  30.]\n",
            " [ 45. 120. 135. 576.  30.  30.]\n",
            " [ 49. 124. 138. 577.  30.  30.]\n",
            " [ 51. 126. 140. 573.  30.  30.]\n",
            " [ 60. 135. 150. 591.  30.  30.]\n",
            " [ 85. 160. 180. 657.  30.  30.]]\n",
            "[[99999     3    15    15    15    15    15    15    15    15]\n",
            " [    3 99999    15    15    15    15    15    15    15    15]\n",
            " [   15    15 99999     8     8     8     8     8     8     8]\n",
            " [   15    15     8 99999     8     8     8     8     8     8]\n",
            " [   15    15     8     8 99999     8     8     8     8     8]\n",
            " [   15    15     8     8     8 99999     8     8     8     8]\n",
            " [   15    15     8     8     8     8 99999     8     8     8]\n",
            " [   15    15     8     8     8     8     8 99999     8     8]\n",
            " [   15    15     8     8     8     8     8     8 99999     8]\n",
            " [   15    15     8     8     8     8     8     8     8 99999]]\n",
            "Model: Aircraft Landing Problem - Static Case - Multi Runaway\n",
            " - number of variables: 250\n",
            "   - binary=220, integer=0, continuous=30\n",
            " - number of constraints: 365\n",
            "   - linear=365\n",
            " - parameters: defaults\n",
            " - objective: minimize\n",
            " - problem type is: MILP\n",
            "* model Aircraft Landing Problem - Static Case - Multi Runaway solved with objective = 90.000\n",
            "objective: 90.000\n",
            "  alpha_6=3.000\n",
            "  x_0=180.000\n",
            "  x_1=155.000\n",
            "  x_2=258.000\n",
            "  x_3=98.000\n",
            "  x_4=106.000\n",
            "  x_5=123.000\n",
            "  x_6=132.000\n",
            "  x_7=138.000\n",
            "  x_8=140.000\n",
            "  x_9=150.000\n",
            "  delta_0_2=1\n",
            "  delta_1_0=1\n",
            "  delta_1_2=1\n",
            "  delta_3_0=1\n",
            "  delta_3_1=1\n",
            "  delta_3_2=1\n",
            "  delta_3_4=1\n",
            "  delta_3_5=1\n",
            "  delta_3_6=1\n",
            "  delta_3_7=1\n",
            "  delta_3_8=1\n",
            "  delta_3_9=1\n",
            "  delta_4_0=1\n",
            "  delta_4_1=1\n",
            "  delta_4_2=1\n",
            "  delta_4_5=1\n",
            "  delta_4_6=1\n",
            "  delta_4_7=1\n",
            "  delta_4_8=1\n",
            "  delta_4_9=1\n",
            "  delta_5_0=1\n",
            "  delta_5_1=1\n",
            "  delta_5_2=1\n",
            "  delta_5_6=1\n",
            "  delta_5_7=1\n",
            "  delta_5_8=1\n",
            "  delta_5_9=1\n",
            "  delta_6_0=1\n",
            "  delta_6_1=1\n",
            "  delta_6_2=1\n",
            "  delta_6_7=1\n",
            "  delta_6_8=1\n",
            "  delta_6_9=1\n",
            "  delta_7_0=1\n",
            "  delta_7_1=1\n",
            "  delta_7_2=1\n",
            "  delta_7_8=1\n",
            "  delta_7_9=1\n",
            "  delta_8_0=1\n",
            "  delta_8_1=1\n",
            "  delta_8_2=1\n",
            "  delta_8_9=1\n",
            "  delta_9_0=1\n",
            "  delta_9_1=1\n",
            "  delta_9_2=1\n",
            "  y_0_0=1\n",
            "  y_1_0=1\n",
            "  y_2_0=1\n",
            "  y_3_0=1\n",
            "  y_4_0=1\n",
            "  y_5_0=1\n",
            "  y_6_0=1\n",
            "  y_7_1=1\n",
            "  y_8_0=1\n",
            "  y_9_1=1\n",
            "  z_0_1=1\n",
            "  z_0_2=1\n",
            "  z_0_3=1\n",
            "  z_0_4=1\n",
            "  z_0_5=1\n",
            "  z_0_6=1\n",
            "  z_0_7=1\n",
            "  z_0_8=1\n",
            "  z_1_0=1\n",
            "  z_1_2=1\n",
            "  z_1_3=1\n",
            "  z_1_4=1\n",
            "  z_1_5=1\n",
            "  z_1_6=1\n",
            "  z_1_7=1\n",
            "  z_1_8=1\n",
            "  z_2_0=1\n",
            "  z_2_1=1\n",
            "  z_2_3=1\n",
            "  z_2_4=1\n",
            "  z_2_5=1\n",
            "  z_2_6=1\n",
            "  z_2_7=1\n",
            "  z_2_8=1\n",
            "  z_3_0=1\n",
            "  z_3_1=1\n",
            "  z_3_2=1\n",
            "  z_3_4=1\n",
            "  z_3_5=1\n",
            "  z_3_6=1\n",
            "  z_3_7=1\n",
            "  z_3_8=1\n",
            "  z_4_0=1\n",
            "  z_4_1=1\n",
            "  z_4_2=1\n",
            "  z_4_3=1\n",
            "  z_4_5=1\n",
            "  z_4_6=1\n",
            "  z_4_7=1\n",
            "  z_4_8=1\n",
            "  z_5_0=1\n",
            "  z_5_1=1\n",
            "  z_5_2=1\n",
            "  z_5_3=1\n",
            "  z_5_4=1\n",
            "  z_5_6=1\n",
            "  z_5_7=1\n",
            "  z_5_8=1\n",
            "  z_6_0=1\n",
            "  z_6_1=1\n",
            "  z_6_2=1\n",
            "  z_6_3=1\n",
            "  z_6_4=1\n",
            "  z_6_5=1\n",
            "  z_6_8=1\n",
            "  z_6_9=1\n",
            "  z_7_0=1\n",
            "  z_7_1=1\n",
            "  z_7_2=1\n",
            "  z_7_3=1\n",
            "  z_7_4=1\n",
            "  z_7_5=1\n",
            "  z_7_9=1\n",
            "  z_8_0=1\n",
            "  z_8_1=1\n",
            "  z_8_2=1\n",
            "  z_8_3=1\n",
            "  z_8_4=1\n",
            "  z_8_5=1\n",
            "  z_8_6=1\n",
            "  z_8_9=1\n",
            "  z_9_6=1\n",
            "  z_9_7=1\n",
            "  z_9_8=1\n"
          ]
        }
      ],
      "source": [
        "filename = 'airland1.txt'\n",
        "R = 2\n",
        "\n",
        "mdl_ = static_ALP(filename, R)\n",
        "mdl_.report()\n",
        "mdl_.print_solution()\n",
        "        "
      ]
    }
  ],
  "metadata": {
    "interpreter": {
      "hash": "b3ba2566441a7c06988d0923437866b63cedc61552a5af99d1f4fb67d367b25f"
    },
    "kernelspec": {
      "display_name": "Python 3.8.8 64-bit ('base': conda)",
      "language": "python",
      "name": "python3"
    },
    "language_info": {
      "codemirror_mode": {
        "name": "ipython",
        "version": 3
      },
      "file_extension": ".py",
      "mimetype": "text/x-python",
      "name": "python",
      "nbconvert_exporter": "python",
      "pygments_lexer": "ipython3",
      "version": "3.8.8"
    },
    "orig_nbformat": 4,
    "colab": {
      "name": "SAAD_ALP_static_multi_runaway.ipynb",
      "provenance": [],
      "collapsed_sections": [],
      "include_colab_link": true
    }
  },
  "nbformat": 4,
  "nbformat_minor": 0
}